{
 "cells": [
  {
   "cell_type": "markdown",
   "id": "33caa180-cf08-4aad-a6f7-d3b61bd4596f",
   "metadata": {},
   "source": [
    "## Welcome to the Bioinformatics of Single Cell Genomes Course!"
   ]
  },
  {
   "cell_type": "markdown",
   "id": "e92bd79f-81b5-4209-8992-aa7428fda1e7",
   "metadata": {},
   "source": [
    "The purpose of this morning lesson is to get your computational environments set up. We'll be using this hub for the next couple of days.\n",
    "\n",
    "You all should have received a username and password for the course Hub.  \n",
    "\n",
    "To sign in, navigate to ***jupyterhub.bigelow.org*** in your browser and enter in your username and password to sign in."
   ]
  },
  {
   "cell_type": "markdown",
   "id": "0f3c152b-9d48-4a4d-accd-f1b0e12cafd1",
   "metadata": {},
   "source": [
    "You should now see what looks like a file system on the left, and a working environment on the right.  This is your own personal file system within the larger jupyterhub set up for this course. "
   ]
  },
  {
   "cell_type": "markdown",
   "id": "722e6b4b-cc25-444a-ab9d-b56f59c0c97c",
   "metadata": {},
   "source": [
    "There are a couple of things we need to do to get your system set up.  First we want to link the storage directory to your home directory.  To do this open up a terminal like this:\n",
    "\n",
    "1. click the plus in the upper-left corner of the hub\n",
    "2. under 'Other' select terminal to open up a terminal tab\n",
    "3. And then type:\n",
    "\n",
    "```\n",
    "$ ln -s /mnt/storage/ storage\n",
    "```"
   ]
  },
  {
   "cell_type": "markdown",
   "id": "eebe2516-6863-40c7-a3dd-dbeb7ca953f0",
   "metadata": {},
   "source": [
    "This storage directory contains all of the data for the course as well as space for you to work. Shared course data can be found at:\n",
    "\n",
    "```\n",
    "storage/data/\n",
    "```\n",
    "\n",
    "Everyone can have their own working directory in the folder \n",
    "```\n",
    "storage/user_lab\n",
    "```\n",
    "\n",
    "Let's navigate there now and create working directories for ourselves:\n",
    "\n",
    "```\n",
    "$ cd storage/user_lab\n",
    "$ mkdir {your_username}\n",
    "```\n",
    "\n",
    "Feel free to copy data from the data directory into your own directories for you to look at.  Let's try this now.\n",
    "\n",
    "On the side panel directory navigator, let's navigate into the data directory, open up 'sag_deliverables', and let's open up the AG-910_assembly_stats.csv by double clicking it.  Look through this table, and select a SAG that is more than a million bp in length.  Note the SAG identifier.  I'm going to choose AG-910-B21.\n",
    "\n",
    "Let's create a destination directory for this data:\n",
    "```\n",
    "$ cd {your_username}\n",
    "$ mkdir sag_data\n",
    "```\n",
    "\n",
    "Copy over the data from the data directory to our working directory:\n",
    "\n",
    "```\n",
    "$ cp ~/storage/data/sag_deliverables/AG-910/AG-910-B21.tar.gz sag_data/\n",
    "```\n",
    "\n",
    "And then extract information from this target directory: \n",
    "\n",
    "```\n",
    "$ tar -xvf sag_data/AG-910-B21.tar.gz\n",
    "```"
   ]
  },
  {
   "cell_type": "markdown",
   "id": "8533432a-9a0a-49de-ba43-54ebe5f762aa",
   "metadata": {},
   "source": [
    "We can navigate into that directory we just extracted using the side browser.  Let's do that right now. You can see all of the files within this deliverables folder. We can look at any of these through the jupyter lab simply by double clicking the file.     "
   ]
  },
  {
   "cell_type": "code",
   "execution_count": null,
   "id": "05b2d63c-45e4-48e2-a3ca-57c65807b46a",
   "metadata": {},
   "outputs": [],
   "source": []
  }
 ],
 "metadata": {
  "kernelspec": {
   "display_name": "Python 3 (ipykernel)",
   "language": "python",
   "name": "python3"
  },
  "language_info": {
   "codemirror_mode": {
    "name": "ipython",
    "version": 3
   },
   "file_extension": ".py",
   "mimetype": "text/x-python",
   "name": "python",
   "nbconvert_exporter": "python",
   "pygments_lexer": "ipython3",
   "version": "3.9.7"
  }
 },
 "nbformat": 4,
 "nbformat_minor": 5
}
